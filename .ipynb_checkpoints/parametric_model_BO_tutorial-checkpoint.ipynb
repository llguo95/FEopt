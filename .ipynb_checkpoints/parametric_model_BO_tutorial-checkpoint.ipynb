{
 "cells": [
  {
   "cell_type": "markdown",
   "id": "6c694d5c-0949-4241-925c-97e693b92ac7",
   "metadata": {
    "tags": []
   },
   "source": [
    "### Step 1: Setup"
   ]
  },
  {
   "cell_type": "markdown",
   "id": "52366f40-a964-47e1-b8b3-e28c57c6d028",
   "metadata": {},
   "source": [
    "#### 1.1 Import packages, define helper functions\n",
    "For this tutorial, you will need `numpy`, `matplotlib`, `GPy`, `emukit`, `scipy` and `sklearn`.\n",
    "\n",
    "Please make sure to have these packages installed using e.g. `pip`."
   ]
  },
  {
   "cell_type": "code",
   "execution_count": 1,
   "id": "5a5f6a68-43ad-4df3-9ddc-5c3a62429eaa",
   "metadata": {},
   "outputs": [],
   "source": [
    "import numpy as np\n",
    "\n",
    "import matplotlib.pyplot as plt\n",
    "\n",
    "import GPy\n",
    "\n",
    "from emukit.model_wrappers.gpy_model_wrappers import GPyModelWrapper\n",
    "from emukit.bayesian_optimization.acquisitions import ExpectedImprovement\n",
    "from emukit.core.optimization import GradientAcquisitionOptimizer\n",
    "from emukit.core import ParameterSpace, ContinuousParameter\n",
    "\n",
    "from scipy.stats.qmc import Sobol\n",
    "\n",
    "from sklearn.preprocessing import StandardScaler"
   ]
  },
  {
   "cell_type": "code",
   "execution_count": 2,
   "id": "c53decf0-ae14-4e82-b346-76b57673d336",
   "metadata": {},
   "outputs": [],
   "source": [
    "np.random.seed(123) # Set random seed for reproducibility\n",
    "\n",
    "def scale_to_orig(x, bds): # Scales inputs to original domain\n",
    "    res = np.zeros(x.shape)\n",
    "    el_c = 0\n",
    "    for el in x:\n",
    "        for d in range(len(el)):\n",
    "            res[el_c, d] = (bds[d][1] - bds[d][0]) * el[d] + bds[d][0]\n",
    "        el_c += 1\n",
    "    return res"
   ]
  },
  {
   "cell_type": "markdown",
   "id": "3549405c-9ca9-488d-8071-ef8229863ba7",
   "metadata": {},
   "source": [
    "#### 1.2 Define objective function for optimization\n",
    "This is where one should supply their own function (FE simulation) along with:\n",
    "- the dimensionality of the design space;\n",
    "- the bounds of each considered parameter.\n",
    "\n",
    "Make sure that the function takes a 2D-array as an input and returns a 2D-array as an output.\n",
    "For simplicity, a (multi-dimensional) square function is taken as example."
   ]
  },
  {
   "cell_type": "code",
   "execution_count": 3,
   "id": "b74d6b4e-93f7-4dd2-9674-926375f43dce",
   "metadata": {},
   "outputs": [],
   "source": [
    "def objective_function(x: np.ndarray) -> np.ndarray:\n",
    "    return np.sum(x ** 2, axis=1)[:, None]\n",
    "\n",
    "dim = 1\n",
    "bds = [(-5, 10) for _ in range(dim)]"
   ]
  },
  {
   "cell_type": "markdown",
   "id": "513618bd-a764-4342-8fa0-aaee5711f817",
   "metadata": {},
   "source": [
    "#### 1.3 Initial data"
   ]
  },
  {
   "cell_type": "markdown",
   "id": "8787d8fc-4870-40ca-b16c-3a61eb36d5c8",
   "metadata": {},
   "source": [
    "To select a \"good\" initial design of experiments, we will use Sobol sequence sampling."
   ]
  },
  {
   "cell_type": "code",
   "execution_count": 4,
   "id": "d13f3efc-9191-4c75-aa3b-8a57592ae3a0",
   "metadata": {},
   "outputs": [],
   "source": [
    "sobolsamp = Sobol(d=dim, scramble=False)\n",
    "\n",
    "n_DoE = 4 # Number of initial training inputs\n",
    "\n",
    "X = scale_to_orig(sobolsamp.random(4), bds)\n",
    "Y = objective_function(X)"
   ]
  },
  {
   "cell_type": "markdown",
   "id": "2150fc6e-0fbf-4772-a52d-eb9b3410aab2",
   "metadata": {},
   "source": [
    "Next, we introduce the \"grid\" data which we use to plot and predict the objective values at."
   ]
  },
  {
   "cell_type": "code",
   "execution_count": 5,
   "id": "75564716-edac-4185-9863-dbaa842f4418",
   "metadata": {},
   "outputs": [],
   "source": [
    "test_x_axes = [np.linspace(bds[k][0], bds[k][1], 300) for k in range(dim)]\n",
    "test_x = np.meshgrid(*test_x_axes)\n",
    "test_x_list = np.hstack([layer.reshape(-1, 1) for layer in test_x])\n",
    "\n",
    "exact_y_list = objective_function(test_x_list)"
   ]
  },
  {
   "cell_type": "markdown",
   "id": "cfe91ee1-cbfe-49a0-a712-93aa424891ac",
   "metadata": {},
   "source": [
    "Finally, all initial training (and testing) data is scaled appropriately."
   ]
  },
  {
   "cell_type": "code",
   "execution_count": 6,
   "id": "02b9a96c-653d-4762-b668-f67c6980f384",
   "metadata": {},
   "outputs": [],
   "source": [
    "scaler_X = StandardScaler()\n",
    "scaler_X.fit(test_x_list)\n",
    "\n",
    "scaler_Y = StandardScaler()\n",
    "scaler_Y.fit(Y)\n",
    "\n",
    "X_scaled = scaler_X.transform(X)\n",
    "Y_scaled = scaler_Y.transform(Y)\n",
    "\n",
    "test_x_list_scaled = scaler_X.transform(test_x_list)"
   ]
  },
  {
   "cell_type": "markdown",
   "id": "0754cef3-b112-4fe0-a9b4-46bf897a09b8",
   "metadata": {},
   "source": [
    "#### 1.4 Acquisition optimizer setup\n",
    "The acquisition function optimizer and the space which it should consider need to be specified:"
   ]
  },
  {
   "cell_type": "code",
   "execution_count": 7,
   "id": "e8c2ea62-c05f-491b-976b-d232c1f3cd87",
   "metadata": {},
   "outputs": [],
   "source": [
    "space = ParameterSpace(\n",
    "    [ContinuousParameter('x_%d' % i, min(test_x_list_scaled[:, i]), max(test_x_list_scaled[:, i])) for i in range(dim)]\n",
    ")\n",
    "\n",
    "optimizer = GradientAcquisitionOptimizer(space)"
   ]
  },
  {
   "cell_type": "markdown",
   "id": "c70238e4-d1ec-4520-b2cc-f0bb7fa4119c",
   "metadata": {},
   "source": [
    "### Step 2: Optimization"
   ]
  },
  {
   "cell_type": "markdown",
   "id": "0a4aae21-d3e7-41f0-aeb3-599db09f6408",
   "metadata": {},
   "source": [
    "#### 2.1 Optimization loop definition\n",
    "Each optimization iteration consists of the following procedure:\n",
    "1. GPR model is created given the available training data\n",
    "2. Model is optimized\n",
    "3. Acquisition function is specified\n",
    "4. Acquisition is optimized; new input and outputs are evaluated \n",
    "5. The new data is merged with the old data, with the appropriate data scaling\n",
    "6. The model is updated with the new training data set\n",
    "\n",
    "As such, the `BO_loop` function takes the (scaled) training input and output sets and returns the updated (scaled) training and output sets, as well as the updated model."
   ]
  },
  {
   "cell_type": "code",
   "execution_count": 8,
   "id": "70540242-2040-4952-b688-f7cd46edf7a3",
   "metadata": {},
   "outputs": [],
   "source": [
    "def BO_loop(X_scaled, Y_scaled):\n",
    "    gpy_model = GPy.models.GPRegression(X_scaled, Y_scaled, GPy.kern.RBF(dim))\n",
    "\n",
    "    # gpy_model.likelihood.constrain_bounded(1e-10, 1) # Constrain noise level search space for likelihood maximization process\n",
    "    # gpy_model.likelihood.fix(1e-10) # Fix noise level\n",
    "    # gpy_model.optimize_restarts( # Optimize with restarts\n",
    "    #     num_restarts=5,\n",
    "    #     verbose=False,\n",
    "    # )\n",
    "\n",
    "    gpy_model.optimize() # Optimize with likelihood maximization\n",
    "\n",
    "    emukit_model = GPyModelWrapper(gpy_model)\n",
    "\n",
    "    ei_acquisition = ExpectedImprovement(emukit_model, jitter=0) # Expected improvement acquisition function\n",
    "    # ei_list = ei_acquisition.evaluate(test_x_list_scaled)\n",
    "\n",
    "    x_new_scaled, _ = optimizer.optimize(ei_acquisition)\n",
    "    y_new = objective_function(scaler_X.inverse_transform(x_new_scaled))\n",
    "\n",
    "    X_scaled = np.append(X_scaled, x_new_scaled, axis=0)\n",
    "    Y_scaled = np.append(Y_scaled, scaler_Y.transform(y_new), axis=0)\n",
    "    Y = scaler_Y.inverse_transform(Y_scaled)\n",
    "    scaler_Y.fit(Y)\n",
    "    Y_scaled = scaler_Y.transform(Y)\n",
    "\n",
    "    emukit_model.set_data(X_scaled, Y_scaled)\n",
    "    return X_scaled, Y_scaled, emukit_model"
   ]
  },
  {
   "cell_type": "markdown",
   "id": "4172087c-d1b7-4dbc-883a-ee132fd4103c",
   "metadata": {},
   "source": [
    "#### 2.2 Running the optimization loop\n",
    "At this stage, the actual optimization is being performed."
   ]
  },
  {
   "cell_type": "code",
   "execution_count": 9,
   "id": "4229b09e-bf68-4270-88b4-0a77517b30b6",
   "metadata": {},
   "outputs": [
    {
     "name": "stderr",
     "output_type": "stream",
     "text": [
      " /home/leoguo/anaconda3/envs/GPenv/lib/python3.7/site-packages/GPy/kern/src/stationary.py:168: RuntimeWarning:overflow encountered in true_divide\n",
      " /home/leoguo/anaconda3/envs/GPenv/lib/python3.7/site-packages/GPy/kern/src/rbf.py:52: RuntimeWarning:overflow encountered in square\n",
      " /home/leoguo/anaconda3/envs/GPenv/lib/python3.7/site-packages/GPy/kern/src/rbf.py:76: RuntimeWarning:invalid value encountered in multiply\n"
     ]
    }
   ],
   "source": [
    "n_iter = 10\n",
    "for _ in range(n_iter):\n",
    "    X_scaled, Y_scaled, emukit_model = BO_loop(X_scaled, Y_scaled)"
   ]
  },
  {
   "cell_type": "markdown",
   "id": "236f38e5-1a81-4907-847b-a73667c8873c",
   "metadata": {},
   "source": [
    "### 3 Post-processing\n",
    "This is one possible routine to perform data post-processing, in which results are displayed on the fly, and no data is stored. It is encouraged to store the data appropriately in non-example problems. "
   ]
  },
  {
   "cell_type": "markdown",
   "id": "ae8c4254-7f1e-45fc-8f1a-2569df5ac443",
   "metadata": {},
   "source": [
    "#### 3.1 History and predictive parameter collection for building the response surface"
   ]
  },
  {
   "cell_type": "code",
   "execution_count": 10,
   "id": "6d30ee48-0b27-4f55-86c6-e151d83b4ca8",
   "metadata": {},
   "outputs": [],
   "source": [
    "input_history = scaler_X.inverse_transform(X_scaled)\n",
    "output_history = scaler_Y.inverse_transform(Y_scaled)\n",
    "\n",
    "mu_plot, var_plot = emukit_model.predict(test_x_list_scaled)\n",
    "mu_plot, var_plot = scaler_Y.inverse_transform(mu_plot), scaler_Y.inverse_transform(var_plot)"
   ]
  },
  {
   "cell_type": "markdown",
   "id": "a1fbf96b-19dc-4d60-8f62-4e497e43845f",
   "metadata": {},
   "source": [
    "#### 3.2 Visualization"
   ]
  },
  {
   "cell_type": "code",
   "execution_count": 11,
   "id": "77773e4e-9ca2-4207-8393-0121a1174ef2",
   "metadata": {},
   "outputs": [
    {
     "name": "stdout",
     "output_type": "stream",
     "text": [
      "Initial DoE \n",
      " [[-5.  ]\n",
      " [ 2.5 ]\n",
      " [ 6.25]\n",
      " [-1.25]]\n",
      "\n",
      "Input iteration history \n",
      " [[-1.24998855e+00]\n",
      " [-2.80950541e-01]\n",
      " [ 1.00000000e+01]\n",
      " [ 1.00303018e-03]\n",
      " [-4.62587397e-03]\n",
      " [ 3.20267617e-03]\n",
      " [-2.16412103e-02]\n",
      " [-2.62438592e-03]\n",
      " [ 2.97203241e-04]\n",
      " [-2.69440561e-03]]\n",
      "\n"
     ]
    },
    {
     "data": {
      "image/png": "[encoded data removed]",
      "text/plain": [
       "<Figure size 432x288 with 1 Axes>"
      ]
     },
     "metadata": {
      "needs_background": "light"
     },
     "output_type": "display_data"
    }
   ],
   "source": [
    "print('Initial DoE \\n', input_history[:n_DoE]); print()\n",
    "print('Input iteration history \\n', input_history[n_DoE:]); print()\n",
    "\n",
    "plt.figure()\n",
    "plt.plot(range(1, 11), np.minimum.accumulate(output_history[4:]), '-o')\n",
    "plt.xlabel('Iteration no.')\n",
    "plt.ylabel('Cumulative minimum')\n",
    "plt.title('Optimization output history')\n",
    "plt.tight_layout()\n",
    "plt.grid()"
   ]
  },
  {
   "cell_type": "code",
   "execution_count": 12,
   "id": "b72f79df-8e1c-4755-ba55-66978b537fc5",
   "metadata": {},
   "outputs": [
    {
     "data": {
      "image/png": "[encoded data removed]",
      "text/plain": [
       "<Figure size 432x288 with 1 Axes>"
      ]
     },
     "metadata": {
      "needs_background": "light"
     },
     "output_type": "display_data"
    }
   ],
   "source": [
    "if dim == 1:\n",
    "    plt.figure(figsize=(6, 4))\n",
    "    plt.plot(input_history, output_history, \"ro\", markersize=10, label=\"Previous observations\")\n",
    "    plt.plot(input_history[-1], output_history[-1], \"bo\", markersize=10, label=\"Latest observation\")\n",
    "    plt.plot(test_x_list, exact_y_list, \"k\", label=\"Objective Function\")\n",
    "    plt.plot(test_x_list, mu_plot, \"C0\", label=\"Model\")\n",
    "    plt.fill_between(test_x_list[:, 0],\n",
    "                     mu_plot[:, 0] + np.sqrt(var_plot)[:, 0],\n",
    "                     mu_plot[:, 0] - np.sqrt(var_plot)[:, 0], color=\"C0\", alpha=0.6)\n",
    "    plt.fill_between(test_x_list[:, 0],\n",
    "                     mu_plot[:, 0] + 2 * np.sqrt(var_plot)[:, 0],\n",
    "                     mu_plot[:, 0] - 2 * np.sqrt(var_plot)[:, 0], color=\"C0\", alpha=0.4)\n",
    "    plt.fill_between(test_x_list[:, 0],\n",
    "                     mu_plot[:, 0] + 3 * np.sqrt(var_plot)[:, 0],\n",
    "                     mu_plot[:, 0] - 3 * np.sqrt(var_plot)[:, 0], color=\"C0\", alpha=0.2)\n",
    "    plt.legend(prop={'size': 10})\n",
    "    plt.xlabel(r\"$x$\")\n",
    "    plt.ylabel(r\"$f(x)$\")\n",
    "    plt.grid(True)\n",
    "    c = (max(exact_y_list) - min(exact_y_list)) / 10\n",
    "    plt.ylim([min(exact_y_list) - c, max(exact_y_list) + c])\n",
    "    plt.tight_layout()"
   ]
  }
 ],
 "metadata": {
  "kernelspec": {
   "display_name": "Python 3",
   "language": "python",
   "name": "python3"
  },
  "language_info": {
   "codemirror_mode": {
    "name": "ipython",
    "version": 3
   },
   "file_extension": ".py",
   "mimetype": "text/x-python",
   "name": "python",
   "nbconvert_exporter": "python",
   "pygments_lexer": "ipython3",
   "version": "3.7.10"
  }
 },
 "nbformat": 4,
 "nbformat_minor": 5
}
